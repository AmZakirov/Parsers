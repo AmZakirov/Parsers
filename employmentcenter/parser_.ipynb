{
 "cells": [
  {
   "cell_type": "code",
   "execution_count": 1,
   "metadata": {},
   "outputs": [],
   "source": [
    "import json\n",
    "from selenium import webdriver\n",
    "from bs4 import BeautifulSoup\n",
    "\n",
    "import functions as fn"
   ]
  },
  {
   "cell_type": "code",
   "execution_count": 2,
   "metadata": {},
   "outputs": [],
   "source": [
    "def get_html(driver, page):\n",
    "    driver.get(page)\n",
    "    html = driver.page_source\n",
    "    return html\n",
    "\n",
    "def get_ids(soup, id_list):\n",
    "    \"\"\"parse id of employee\"\"\"\n",
    "    temp_id = []\n",
    "    for a in soup.find_all('a', href=True):\n",
    "        if \"id\" in a['href'] and \"action=read\" in a['href']:\n",
    "            id = a['href'].split(\"=\")[-1]\n",
    "            if id not in id_list:\n",
    "                temp_id.append(id)\n",
    "    temp_id = list(set(temp_id))\n",
    "    return temp_id"
   ]
  },
  {
   "cell_type": "code",
   "execution_count": 3,
   "metadata": {},
   "outputs": [],
   "source": [
    "\n",
    "class City:\n",
    "    def __init__(self, region_link, num_of_pages):\n",
    "        self.link = \"https://employmentcenter.ru/resume/?action=findit&region=\" + region_link\n",
    "        self.num_of_pages = num_of_pages\n",
    "        self.id_list = []\n",
    "    \n",
    "    def turn_page(self, page_ind):\n",
    "        page_link = self.link + \"&nbl=\" + str(page_ind)\n",
    "        return page_link\n",
    "    \n",
    "class Person:\n",
    "    def __init__(self, driver, id):\n",
    "        self.id = id\n",
    "        self.person_link = \"https://employmentcenter.ru/resume/?action=read&id=\" + id\n",
    "        self.person_html = get_html(driver, self.person_link)\n",
    "        self.bs = BeautifulSoup(self.person_html, \"html.parser\")\n",
    "\n",
    "    @property\n",
    "    def parse_data(self):\n",
    "        item_list = [\"address\", \"name\", \"gender\", \"Дата рождения\", \"Возраст\", \"telephone\", \"email\", \"jobTitle\",\"Минимальный желательный оклад (зарплата)\", \"Желаемый график работы\", \"Образование\"]\n",
    "        parsed_list = []\n",
    "        try:\n",
    "            for item in item_list:\n",
    "                if item == \"telephone\":\n",
    "                    parsed_list.append(fn.obtain_phone(str(self.bs.find(\"span\", itemprop=item))))\n",
    "                elif item == \"gender\" or item ==\"jobTitle\":\n",
    "                    parsed_list.append(fn.obtain_name(str(self.bs.find(\"span\", itemprop=item)))[1:-1])\n",
    "                elif item == \"Возраст\" or item == \"Образование\" or item =='Желаемый график работы' or item == \"Дата рождения\":\n",
    "                    parsed_list.append(fn.obtain_age_education(self.bs, item))\n",
    "                elif item == \"Минимальный желательный оклад (зарплата)\":\n",
    "                    parsed_list.append(fn.obtain_age_education(self.bs, item).split(\"/\")[1][:-4])\n",
    "                elif item == \"name\":\n",
    "                    parsed_list.append(fn.edit_name(fn.obtain_name(str(self.bs.find(\"span\", itemprop=item)))))                 \n",
    "                else:\n",
    "                    parsed_list.append(fn.obtain_name(str(self.bs.find(\"span\", itemprop=item))))\n",
    "            return fn.employee_dict(parsed_list)\n",
    "        except:\n",
    "            return None"
   ]
  },
  {
   "cell_type": "code",
   "execution_count": 4,
   "metadata": {},
   "outputs": [],
   "source": [
    "# Список закодированных номеров каждого города: \n",
    "# Казань, Набережные Челны, Нижнекамск, Альметьевск, Зеленодольск, Чистополь, Иннополис, Бугульма, Лениногорск\n",
    "cities_list = [\"496\", \"834\", \"869\", \"37\", \"442\", \"1434\", \"5327\", \"188\", \"705\"]\n",
    "num_of_pages = 25\n",
    "\n",
    "f = open(\"data.json\", \"r+\", encoding='utf-8')\n",
    "data = []\n",
    "driver = webdriver.Edge()\n",
    "for i in range(len(cities_list)):\n",
    "    city = City(cities_list[i], num_of_pages)\n",
    "    for j in range(num_of_pages):\n",
    "        page_id_list = []\n",
    "        \n",
    "        try:\n",
    "            city_soup = BeautifulSoup(get_html(driver, city.turn_page(j)), \"html.parser\")\n",
    "            page_id_list = get_ids(city_soup, city.id_list)\n",
    "            city.id_list += page_id_list\n",
    "        except:\n",
    "            break\n",
    "        \n",
    "        for id in page_id_list:\n",
    "            person = Person(driver, id)\n",
    "            f.seek(0)\n",
    "            if person.parse_data != None:\n",
    "                data.append(person.parse_data)\n",
    "                json.dump(data, f, ensure_ascii=False, indent=4)                      \n",
    "driver.close()"
   ]
  }
 ],
 "metadata": {
  "kernelspec": {
   "display_name": "base",
   "language": "python",
   "name": "python3"
  },
  "language_info": {
   "codemirror_mode": {
    "name": "ipython",
    "version": 3
   },
   "file_extension": ".py",
   "mimetype": "text/x-python",
   "name": "python",
   "nbconvert_exporter": "python",
   "pygments_lexer": "ipython3",
   "version": "3.9.13"
  },
  "orig_nbformat": 4
 },
 "nbformat": 4,
 "nbformat_minor": 2
}
